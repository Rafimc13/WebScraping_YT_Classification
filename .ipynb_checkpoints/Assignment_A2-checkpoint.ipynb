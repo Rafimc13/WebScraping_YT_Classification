{
 "cells": [
  {
   "cell_type": "markdown",
   "id": "e6d8df22-f254-47f8-a3d7-3d2d13d69e74",
   "metadata": {},
   "source": [
    "## Assignment A2 (PDS 2023/2024)"
   ]
  }
 ],
 "metadata": {
  "kernelspec": {
   "display_name": "Python 3 (ipykernel)",
   "language": "python",
   "name": "python3"
  },
  "language_info": {
   "codemirror_mode": {
    "name": "ipython",
    "version": 3
   },
   "file_extension": ".py",
   "mimetype": "text/x-python",
   "name": "python",
   "nbconvert_exporter": "python",
   "pygments_lexer": "ipython3",
   "version": "3.11.3"
  }
 },
 "nbformat": 4,
 "nbformat_minor": 5
}
